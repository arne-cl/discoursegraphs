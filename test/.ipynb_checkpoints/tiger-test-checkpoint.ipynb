{
 "metadata": {
  "name": ""
 },
 "nbformat": 3,
 "nbformat_minor": 0,
 "worksheets": [
  {
   "cells": [
    {
     "cell_type": "code",
     "collapsed": false,
     "input": [
      "import os\n",
      "import networkx as nx\n",
      "from tiger import TigerDocumentGraph\n",
      "\n",
      "TIGER_DIR = os.path.expanduser('~/repos/pcc-annis-merged/maz176/syntax')"
     ],
     "language": "python",
     "metadata": {},
     "outputs": [],
     "prompt_number": 2
    },
    {
     "cell_type": "code",
     "collapsed": false,
     "input": [
      "tiger_files = !ls $TIGER_DIR/*.xml\n",
      "\n",
      "for tiger_fpath in tiger_files:\n",
      "    TigerDocumentGraph(tiger_fpath)"
     ],
     "language": "python",
     "metadata": {},
     "outputs": [],
     "prompt_number": 3
    },
    {
     "cell_type": "code",
     "collapsed": false,
     "input": [
      "dg = nx.DiGraph()\n",
      "mdg = nx.MultiDiGraph()"
     ],
     "language": "python",
     "metadata": {},
     "outputs": []
    },
    {
     "cell_type": "code",
     "collapsed": false,
     "input": [
      "# mdg.add_edge(self, u, v, key=None, attr_dict=None, **attr)\n",
      "# To replace/update edge data, use the optional key argument\n",
      "# to identify a unique edge.  Otherwise a new edge will be created.\n",
      "\n",
      "# dg.add_edge(self, u, v, attr_dict=None, **attr)\n",
      "# Adding an edge that already exists updates the edge data.\n",
      "\n",
      "\n"
     ],
     "language": "python",
     "metadata": {},
     "outputs": []
    }
   ],
   "metadata": {}
  }
 ]
}