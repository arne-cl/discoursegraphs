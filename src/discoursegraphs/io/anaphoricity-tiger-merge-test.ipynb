{
 "metadata": {
  "name": ""
 },
 "nbformat": 3,
 "nbformat_minor": 0,
 "worksheets": [
  {
   "cells": [
    {
     "cell_type": "code",
     "collapsed": false,
     "input": [
      "import os\n",
      "import re\n",
      "\n",
      "from tiger import TigerDocumentGraph\n",
      "from anaphoricity import AnaphoraDocumentGraph\n",
      "\n",
      "DOC_ID_REGEX = '\\d+'\n",
      "\n",
      "TIGER_DIR = os.path.expanduser('~/repos/pcc-annis-merged/maz176/syntax')\n",
      "DAS_DIR = os.path.expanduser('~/repos/pcc-annis-merged/maz176/anaphora/tosik/das')\n",
      "ES_DIR = os.path.expanduser('~/repos/pcc-annis-merged/maz176/anaphora/tosik/es')"
     ],
     "language": "python",
     "metadata": {},
     "outputs": [],
     "prompt_number": 9
    },
    {
     "cell_type": "code",
     "collapsed": false,
     "input": [
      "tiger_files = !ls $TIGER_DIR/*.xml\n",
      "das_files = !ls $DAS_DIR/*.txt\n",
      "es_files = !ls $ES_DIR/*.txt\n",
      "\n",
      "def get_doc_id(annotation_file_path):\n",
      "    \"\"\"\n",
      "    extracts the numerical document ID from the file name of an annotation file.\n",
      "    \n",
      "    Parameters\n",
      "    ----------\n",
      "    annotation_file_path : str\n",
      "        absolute or relative path to an annotation file\n",
      "        \n",
      "    Returns\n",
      "    -------\n",
      "    doc_id : str\n",
      "        the numerical document ID of the annotation file, e.g. '00001' or '14881'\n",
      "    \"\"\"\n",
      "    file_name = os.path.basename(annotation_file_path)\n",
      "    return re.search(DOC_ID_REGEX, file_name).group()\n",
      "\n",
      "def doc_id2tiger_filename(doc_id, tiger_dir):\n",
      "    \"\"\"\n",
      "    converts a numerical document ID into a Tiger file name (as it is used in PCC).\n",
      "    \"\"\"\n",
      "    return os.path.join(tiger_dir, 'syntax.maz-{}.xml'.format(doc_id))"
     ],
     "language": "python",
     "metadata": {},
     "outputs": [],
     "prompt_number": 14
    },
    {
     "cell_type": "markdown",
     "metadata": {},
     "source": [
      "For each anaphoricity file, there's one Tiger file:"
     ]
    },
    {
     "cell_type": "code",
     "collapsed": false,
     "input": [
      "all([os.path.isfile(doc_id2tiger_filename(doc_id, TIGER_DIR)) \n",
      "         for doc_id in (get_doc_id(fpath)\n",
      "            for fpath in tiger_files)])"
     ],
     "language": "python",
     "metadata": {},
     "outputs": [
      {
       "metadata": {},
       "output_type": "pyout",
       "prompt_number": 20,
       "text": [
        "True"
       ]
      }
     ],
     "prompt_number": 20
    },
    {
     "cell_type": "code",
     "collapsed": false,
     "input": [
      "ANAPHORICITY_TEST_FILE = os.path.expanduser('~/repos/pcc-annis-merged/maz176/anaphora/tosik/das/maz-10207.anaphora.das.txt')\n",
      "TIGER_TEST_FILE = doc_id2tiger_filename(get_doc_id(ANAPHORICITY_TEST_FILE), TIGER_DIR)\n",
      "\n",
      "adg = AnaphoraDocumentGraph(ANAPHORICITY_TEST_FILE)\n",
      "tdg = TigerDocumentGraph(TIGER_TEST_FILE)\n",
      "\n"
     ],
     "language": "python",
     "metadata": {},
     "outputs": [],
     "prompt_number": 32
    },
    {
     "cell_type": "code",
     "collapsed": false,
     "input": [
      "for sentence_vroot in tdg.sentences:\n",
      "    print sentence_vroot, tdg.node[sentence_vroot]"
     ],
     "language": "python",
     "metadata": {},
     "outputs": [
      {
       "output_type": "stream",
       "stream": "stdout",
       "text": [
        "VROOT-s33 {'tokens': ['s33_1', 's33_2', 's33_3'], 'orig_id': 'ID_maz-10207', 'id': 's33', 'art_id': '10207'}\n",
        "VROOT-s34 {'tokens': ['s34_1', 's34_2', 's34_3', 's34_4', 's34_5'], 'orig_id': 'ID_maz-10207', 'id': 's34', 'art_id': '10207'}\n",
        "VROOT-s35 {'tokens': ['s35_1', 's35_2', 's35_3', 's35_4', 's35_5', 's35_6', 's35_7', 's35_8', 's35_9', 's35_10', 's35_11', 's35_12', 's35_13', 's35_14', 's35_15', 's35_16', 's35_17', 's35_18', 's35_19', 's35_20'], 'orig_id': 'ID_maz-10207', 'id': 's35', 'art_id': '10207'}\n",
        "VROOT-s36 {'tokens': ['s36_1', 's36_2', 's36_3', 's36_4', 's36_5', 's36_6', 's36_7', 's36_8', 's36_9', 's36_10', 's36_11', 's36_12', 's36_13', 's36_14', 's36_15', 's36_16', 's36_17', 's36_18', 's36_19', 's36_20', 's36_21', 's36_22', 's36_23'], 'orig_id': 'ID_maz-10207', 'id': 's36', 'art_id': '10207'}\n",
        "VROOT-s37 {'tokens': ['s37_1', 's37_2', 's37_3', 's37_4', 's37_5', 's37_6'], 'orig_id': 'ID_maz-10207', 'id': 's37', 'art_id': '10207'}\n",
        "VROOT-s38 {'tokens': ['s38_1', 's38_2', 's38_3', 's38_4', 's38_5', 's38_6', 's38_7', 's38_8', 's38_9', 's38_10', 's38_11', 's38_12', 's38_13', 's38_14', 's38_15', 's38_16', 's38_17', 's38_18', 's38_19', 's38_20', 's38_21'], 'orig_id': 'ID_maz-10207', 'id': 's38', 'art_id': '10207'}\n",
        "VROOT-s39 {'tokens': ['s39_1', 's39_2', 's39_3', 's39_4', 's39_5', 's39_6', 's39_7', 's39_8', 's39_9', 's39_10', 's39_11', 's39_12', 's39_13', 's39_14', 's39_15', 's39_16', 's39_17', 's39_18', 's39_19', 's39_20'], 'orig_id': 'ID_maz-10207', 'id': 's39', 'art_id': '10207'}\n",
        "VROOT-s40 {'tokens': ['s40_1', 's40_2', 's40_3', 's40_4', 's40_5', 's40_6', 's40_7', 's40_8', 's40_9'], 'orig_id': 'ID_maz-10207', 'id': 's40', 'art_id': '10207'}\n",
        "VROOT-s41 {'tokens': ['s41_1', 's41_2', 's41_3', 's41_4', 's41_5', 's41_6', 's41_7', 's41_8', 's41_9', 's41_10', 's41_11', 's41_12', 's41_13', 's41_14', 's41_15', 's41_16', 's41_17', 's41_18'], 'orig_id': 'ID_maz-10207', 'id': 's41', 'art_id': '10207'}\n",
        "VROOT-s42 {'tokens': ['s42_1', 's42_2', 's42_3', 's42_4', 's42_5', 's42_6', 's42_7', 's42_8', 's42_9', 's42_10', 's42_11', 's42_12', 's42_13', 's42_14', 's42_15', 's42_16', 's42_17', 's42_18', 's42_19', 's42_20', 's42_21', 's42_22', 's42_23', 's42_24'], 'orig_id': 'ID_maz-10207', 'id': 's42', 'art_id': '10207'}\n",
        "VROOT-s43 {'tokens': ['s43_1', 's43_2', 's43_3', 's43_4', 's43_5', 's43_6', 's43_7', 's43_8', 's43_9', 's43_10', 's43_11', 's43_12', 's43_13', 's43_14', 's43_15', 's43_16', 's43_17', 's43_18', 's43_19', 's43_20', 's43_21', 's43_22'], 'orig_id': 'ID_maz-10207', 'id': 's43', 'art_id': '10207'}\n",
        "VROOT-s44 {'tokens': ['s44_1', 's44_2', 's44_3', 's44_4', 's44_5', 's44_6', 's44_7', 's44_8', 's44_9', 's44_10', 's44_11', 's44_12', 's44_13', 's44_14', 's44_15', 's44_16', 's44_17', 's44_18', 's44_19', 's44_20', 's44_21'], 'orig_id': 'ID_maz-10207', 'id': 's44', 'art_id': '10207'}\n"
       ]
      }
     ],
     "prompt_number": 46
    }
   ],
   "metadata": {}
  }
 ]
}