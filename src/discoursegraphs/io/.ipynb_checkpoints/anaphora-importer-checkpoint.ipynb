{
 "metadata": {
  "name": ""
 },
 "nbformat": 3,
 "nbformat_minor": 0,
 "worksheets": [
  {
   "cells": [
    {
     "cell_type": "code",
     "collapsed": false,
     "input": [
      "import os\n",
      "import re\n",
      "import difflib\n",
      "from collections import defaultdict\n",
      "\n",
      "ANNOTATION_REGEX = re.compile('/\\w')\n",
      "\n",
      "ANAPHORA_ANNOTATION_DIR = os.path.expanduser('~/repos/abstract-anaphora-annotation/')\n",
      "DAS_FILE = os.path.join(ANAPHORA_ANNOTATION_DIR, '174pcc.orig.utf8.txt.melanie_das_annotation')\n",
      "ES_FILE = os.path.join(ANAPHORA_ANNOTATION_DIR, '174pcc.orig.utf8.txt.melanie_es_annotation')\n",
      "UNANNOTATED_FILE = os.path.join(ANAPHORA_ANNOTATION_DIR, '174pcc.orig.utf8.txt')"
     ],
     "language": "python",
     "metadata": {},
     "outputs": [],
     "prompt_number": 5
    },
    {
     "cell_type": "code",
     "collapsed": false,
     "input": [
      "das_lines = open(DAS_FILE, 'r').readlines()\n",
      "unannotated_lines = open(UNANNOTATED_FILE, 'r').readlines()"
     ],
     "language": "python",
     "metadata": {},
     "outputs": [],
     "prompt_number": 6
    },
    {
     "cell_type": "markdown",
     "metadata": {},
     "source": [
      "Generate a dictionary of primary texts from the unannotated file:"
     ]
    },
    {
     "cell_type": "code",
     "collapsed": false,
     "input": [
      "docs = defaultdict(list) # starts counting at 1\n",
      "doc_count = 0\n",
      "for line in unannotated_lines:\n",
      "    if line.isupper(): # every document starts with the author name (ALL CAPS)\n",
      "        doc_count += 1\n",
      "    docs[doc_count].append(line)\n"
     ],
     "language": "python",
     "metadata": {},
     "outputs": [],
     "prompt_number": 7
    },
    {
     "cell_type": "code",
     "collapsed": false,
     "input": [
      "for i, doc_lines in docs.items():\n",
      "    with open(os.path.join(ANAPHORA_ANNOTATION_DIR, \"primary_text{0:03d}.txt\".format(i)), 'w') as outfile:\n",
      "        outfile.writelines(doc_lines)"
     ],
     "language": "python",
     "metadata": {},
     "outputs": [],
     "prompt_number": 8
    },
    {
     "cell_type": "markdown",
     "metadata": {},
     "source": [
      "Generate a dictionary of headlines from those extracted primary texts:"
     ]
    },
    {
     "cell_type": "code",
     "collapsed": false,
     "input": [
      "headlines = defaultdict(str) # starts counting at 1\n",
      "for doc_id, doc_lines in docs.items():\n",
      "    headlines[doc_id] = doc_lines[2]"
     ],
     "language": "python",
     "metadata": {},
     "outputs": [],
     "prompt_number": 9
    },
    {
     "cell_type": "markdown",
     "metadata": {},
     "source": [
      "Generate a dictionary of annotated texts from the annotation file\n",
      "and match it against the primary texts. (The author names are missing\n",
      "from the annotated texts)."
     ]
    },
    {
     "cell_type": "code",
     "collapsed": false,
     "input": [
      "ANNOTATION_REGEX = re.compile('/\\w')\n",
      "\n",
      "annotated_docs = defaultdict(list)\n",
      "annotated_doc_count = 0\n",
      "for annotated_line in das_lines:\n",
      "    original_line = headlines[annotated_doc_count+1].strip() # headlines start counting at 1\n",
      "    # annotation not only adds '/xyz' to a word, but also messes up spacing\n",
      "    cleaned_annotated_line = ' '.join(ANNOTATION_REGEX.sub('', annotated_line).strip().split())\n",
      "\n",
      "    # fuzzy matching works fine\n",
      "#     if difflib.SequenceMatcher(None, original_line, cleaned_annotated_line).ratio() >= 0.9:\n",
      "#         print annotated_doc_count, cleaned_annotated_line, ' || ',\n",
      "#         annotated_doc_count += 1\n",
      "\n",
      "    if original_line == cleaned_annotated_line:\n",
      "        annotated_doc_count += 1\n",
      "    annotated_docs[annotated_doc_count].append(annotated_line)"
     ],
     "language": "python",
     "metadata": {},
     "outputs": [],
     "prompt_number": 10
    },
    {
     "cell_type": "code",
     "collapsed": false,
     "input": [
      "def get_unannotated_docs(unannotated_file):\n",
      "    docs = defaultdict(list) # starts counting at 1\n",
      "    doc_count = 0\n",
      "    with open(unannotated_file, 'r') as unannotated:\n",
      "        unannotated_lines = unannotated.readlines()\n",
      "        for line in unannotated_lines:\n",
      "            if line.isupper(): # every document starts with the author name (ALL CAPS)\n",
      "                doc_count += 1\n",
      "            docs[doc_count].append(line)\n",
      "    return docs\n",
      "\n",
      "def get_headlines(unannotated_docs):\n",
      "    headlines = defaultdict(str) # starts counting at 1\n",
      "    for doc_id, doc_lines in unannotated_docs.items():\n",
      "        headlines[doc_id] = doc_lines[2]\n",
      "    return headlines\n",
      "    \n",
      "def get_annotated_docs(headlines, annotated_file):\n",
      "    with open(annotated_file, 'r') as annotated:\n",
      "        annotated_lines = annotated.readlines()\n",
      "        annotated_docs = defaultdict(list)\n",
      "        annotated_doc_count = 0\n",
      "        for annotated_line in annotated_lines:\n",
      "            original_line = headlines[annotated_doc_count+1].strip() # headlines start counting at 1\n",
      "            # annotation not only adds '/xyz' to a word, but also messes up spacing\n",
      "            cleaned_annotated_line = ' '.join(ANNOTATION_REGEX.sub('', annotated_line).strip().split())\n",
      "        \n",
      "            if original_line == cleaned_annotated_line:\n",
      "                annotated_doc_count += 1\n",
      "            annotated_docs[annotated_doc_count].append(annotated_line)\n",
      "        return annotated_docs"
     ],
     "language": "python",
     "metadata": {},
     "outputs": [],
     "prompt_number": 15
    },
    {
     "cell_type": "code",
     "collapsed": false,
     "input": [
      "unannotated_docs = get_unannotated_docs(UNANNOTATED_FILE)\n",
      "headlines = get_headlines(unannotated_docs)\n",
      "annotated_das_docs = get_annotated_docs(headlines, DAS_FILE)\n",
      "annotated_es_docs = get_annotated_docs(headlines, ES_FILE)"
     ],
     "language": "python",
     "metadata": {},
     "outputs": [],
     "prompt_number": 21
    },
    {
     "cell_type": "code",
     "collapsed": false,
     "input": [
      "print len(docs) == len(annotated_das_docs) == len(annotated_es_docs), len(docs)"
     ],
     "language": "python",
     "metadata": {},
     "outputs": [
      {
       "output_type": "stream",
       "stream": "stdout",
       "text": [
        "True 170\n"
       ]
      }
     ],
     "prompt_number": 23
    },
    {
     "cell_type": "markdown",
     "metadata": {},
     "source": [
      "# Match annotated documents to primary text files (and their MAZ IDs!)"
     ]
    },
    {
     "cell_type": "code",
     "collapsed": false,
     "input": [],
     "language": "python",
     "metadata": {},
     "outputs": []
    }
   ],
   "metadata": {}
  }
 ]
}