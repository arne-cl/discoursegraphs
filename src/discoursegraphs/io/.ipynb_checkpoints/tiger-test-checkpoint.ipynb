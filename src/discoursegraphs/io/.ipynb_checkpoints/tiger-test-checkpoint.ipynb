{
 "metadata": {
  "name": ""
 },
 "nbformat": 3,
 "nbformat_minor": 0,
 "worksheets": [
  {
   "cells": [
    {
     "cell_type": "code",
     "collapsed": false,
     "input": [
      "import os\n",
      "import networkx as nx\n",
      "from tiger import TigerDocumentGraph\n",
      "\n",
      "TIGER_DIR = os.path.expanduser('~/repos/pcc-annis-merged/maz176/syntax')"
     ],
     "language": "python",
     "metadata": {},
     "outputs": [],
     "prompt_number": 1
    },
    {
     "cell_type": "markdown",
     "metadata": {},
     "source": [
      "# TigerDocumentGraph only works, if it is based on DiGraph. It fails, if it is based on MultiDiGraph\n",
      "\n",
      "```python\n",
      "TypeError                                 Traceback (most recent call last)\n",
      "<ipython-input-2-ec350d9345f0> in <module>()\n",
      "      2 \n",
      "      3 for tiger_fpath in tiger_files:\n",
      "----> 4     TigerDocumentGraph(tiger_fpath)\n",
      "\n",
      "/home/arne/repos/discoursegraphs/src/discoursegraphs/io/tiger.py in __init__(self, tiger_filepath)\n",
      "     58         self.sentences = []\n",
      "     59         for sentence in tigerxml_root.iterfind('./body/s'):\n",
      "---> 60             self.__add_sentence_to_document(sentence)\n",
      "     61         self.sentences = sorted(self.sentences, key=_natural_sort_key)\n",
      "     62 \n",
      "\n",
      "/home/arne/repos/discoursegraphs/src/discoursegraphs/io/tiger.py in __add_sentence_to_document(self, sentence)\n",
      "     74             a sentence from a TigerXML file in etree element format\n",
      "     75         \"\"\"\n",
      "---> 76         sentence_graph = TigerSentenceGraph(sentence)\n",
      "     77         sentence_root_node_id = sentence_graph.root\n",
      "     78 \n",
      "\n",
      "/home/arne/repos/discoursegraphs/src/discoursegraphs/io/tiger.py in __init__(self, sentence)\n",
      "    124 \n",
      "    125         self.__add_vroot(sentence_root_id, sentence_attributes)\n",
      "--> 126         self.__tigersentence2graph(sentence)\n",
      "    127         self.__repair_unconnected_nodes()\n",
      "    128 \n",
      "\n",
      "/home/arne/repos/discoursegraphs/src/discoursegraphs/io/tiger.py in __tigersentence2graph(self, sentence)\n",
      "    170             for edge in nt.iterfind('./edge'):\n",
      "    171                 to_id = edge.attrib['idref']\n",
      "--> 172                 self.add_edge(from_id, to_id, edge.attrib, type='edge')\n",
      "    173 \n",
      "    174             for secedge in nt.iterfind('./secedge'):\n",
      "\n",
      "/home/arne/anaconda/lib/python2.7/site-packages/networkx/classes/multidigraph.pyc in add_edge(self, u, v, key, attr_dict, **attr)\n",
      "    260             datadict={}\n",
      "    261             datadict.update(attr_dict)\n",
      "--> 262             keydict={key:datadict}\n",
      "    263             self.succ[u][v] = keydict\n",
      "    264             self.pred[v][u] = keydict\n",
      "\n",
      "TypeError: unhashable type: 'lxml.etree._Attrib'\n",
      "```"
     ]
    },
    {
     "cell_type": "code",
     "collapsed": false,
     "input": [
      "tiger_files = !ls $TIGER_DIR/*.xml\n",
      "\n",
      "for tiger_fpath in tiger_files:\n",
      "    TigerDocumentGraph(tiger_fpath)"
     ],
     "language": "python",
     "metadata": {},
     "outputs": [
      {
       "ename": "TypeError",
       "evalue": "unhashable type: 'lxml.etree._Attrib'",
       "output_type": "pyerr",
       "traceback": [
        "\u001b[1;31m---------------------------------------------------------------------------\u001b[0m\n\u001b[1;31mTypeError\u001b[0m                                 Traceback (most recent call last)",
        "\u001b[1;32m<ipython-input-2-ec350d9345f0>\u001b[0m in \u001b[0;36m<module>\u001b[1;34m()\u001b[0m\n\u001b[0;32m      2\u001b[0m \u001b[1;33m\u001b[0m\u001b[0m\n\u001b[0;32m      3\u001b[0m \u001b[1;32mfor\u001b[0m \u001b[0mtiger_fpath\u001b[0m \u001b[1;32min\u001b[0m \u001b[0mtiger_files\u001b[0m\u001b[1;33m:\u001b[0m\u001b[1;33m\u001b[0m\u001b[0m\n\u001b[1;32m----> 4\u001b[1;33m     \u001b[0mTigerDocumentGraph\u001b[0m\u001b[1;33m(\u001b[0m\u001b[0mtiger_fpath\u001b[0m\u001b[1;33m)\u001b[0m\u001b[1;33m\u001b[0m\u001b[0m\n\u001b[0m",
        "\u001b[1;32m/home/arne/repos/discoursegraphs/src/discoursegraphs/io/tiger.py\u001b[0m in \u001b[0;36m__init__\u001b[1;34m(self, tiger_filepath)\u001b[0m\n\u001b[0;32m     58\u001b[0m         \u001b[0mself\u001b[0m\u001b[1;33m.\u001b[0m\u001b[0msentences\u001b[0m \u001b[1;33m=\u001b[0m \u001b[1;33m[\u001b[0m\u001b[1;33m]\u001b[0m\u001b[1;33m\u001b[0m\u001b[0m\n\u001b[0;32m     59\u001b[0m         \u001b[1;32mfor\u001b[0m \u001b[0msentence\u001b[0m \u001b[1;32min\u001b[0m \u001b[0mtigerxml_root\u001b[0m\u001b[1;33m.\u001b[0m\u001b[0miterfind\u001b[0m\u001b[1;33m(\u001b[0m\u001b[1;34m'./body/s'\u001b[0m\u001b[1;33m)\u001b[0m\u001b[1;33m:\u001b[0m\u001b[1;33m\u001b[0m\u001b[0m\n\u001b[1;32m---> 60\u001b[1;33m             \u001b[0mself\u001b[0m\u001b[1;33m.\u001b[0m\u001b[0m__add_sentence_to_document\u001b[0m\u001b[1;33m(\u001b[0m\u001b[0msentence\u001b[0m\u001b[1;33m)\u001b[0m\u001b[1;33m\u001b[0m\u001b[0m\n\u001b[0m\u001b[0;32m     61\u001b[0m         \u001b[0mself\u001b[0m\u001b[1;33m.\u001b[0m\u001b[0msentences\u001b[0m \u001b[1;33m=\u001b[0m \u001b[0msorted\u001b[0m\u001b[1;33m(\u001b[0m\u001b[0mself\u001b[0m\u001b[1;33m.\u001b[0m\u001b[0msentences\u001b[0m\u001b[1;33m,\u001b[0m \u001b[0mkey\u001b[0m\u001b[1;33m=\u001b[0m\u001b[0m_natural_sort_key\u001b[0m\u001b[1;33m)\u001b[0m\u001b[1;33m\u001b[0m\u001b[0m\n\u001b[0;32m     62\u001b[0m \u001b[1;33m\u001b[0m\u001b[0m\n",
        "\u001b[1;32m/home/arne/repos/discoursegraphs/src/discoursegraphs/io/tiger.py\u001b[0m in \u001b[0;36m__add_sentence_to_document\u001b[1;34m(self, sentence)\u001b[0m\n\u001b[0;32m     74\u001b[0m             \u001b[0ma\u001b[0m \u001b[0msentence\u001b[0m \u001b[1;32mfrom\u001b[0m \u001b[0ma\u001b[0m \u001b[0mTigerXML\u001b[0m \u001b[0mfile\u001b[0m \u001b[1;32min\u001b[0m \u001b[0metree\u001b[0m \u001b[0melement\u001b[0m \u001b[0mformat\u001b[0m\u001b[1;33m\u001b[0m\u001b[0m\n\u001b[0;32m     75\u001b[0m         \"\"\"\n\u001b[1;32m---> 76\u001b[1;33m         \u001b[0msentence_graph\u001b[0m \u001b[1;33m=\u001b[0m \u001b[0mTigerSentenceGraph\u001b[0m\u001b[1;33m(\u001b[0m\u001b[0msentence\u001b[0m\u001b[1;33m)\u001b[0m\u001b[1;33m\u001b[0m\u001b[0m\n\u001b[0m\u001b[0;32m     77\u001b[0m         \u001b[0msentence_root_node_id\u001b[0m \u001b[1;33m=\u001b[0m \u001b[0msentence_graph\u001b[0m\u001b[1;33m.\u001b[0m\u001b[0mroot\u001b[0m\u001b[1;33m\u001b[0m\u001b[0m\n\u001b[0;32m     78\u001b[0m \u001b[1;33m\u001b[0m\u001b[0m\n",
        "\u001b[1;32m/home/arne/repos/discoursegraphs/src/discoursegraphs/io/tiger.py\u001b[0m in \u001b[0;36m__init__\u001b[1;34m(self, sentence)\u001b[0m\n\u001b[0;32m    124\u001b[0m \u001b[1;33m\u001b[0m\u001b[0m\n\u001b[0;32m    125\u001b[0m         \u001b[0mself\u001b[0m\u001b[1;33m.\u001b[0m\u001b[0m__add_vroot\u001b[0m\u001b[1;33m(\u001b[0m\u001b[0msentence_root_id\u001b[0m\u001b[1;33m,\u001b[0m \u001b[0msentence_attributes\u001b[0m\u001b[1;33m)\u001b[0m\u001b[1;33m\u001b[0m\u001b[0m\n\u001b[1;32m--> 126\u001b[1;33m         \u001b[0mself\u001b[0m\u001b[1;33m.\u001b[0m\u001b[0m__tigersentence2graph\u001b[0m\u001b[1;33m(\u001b[0m\u001b[0msentence\u001b[0m\u001b[1;33m)\u001b[0m\u001b[1;33m\u001b[0m\u001b[0m\n\u001b[0m\u001b[0;32m    127\u001b[0m         \u001b[0mself\u001b[0m\u001b[1;33m.\u001b[0m\u001b[0m__repair_unconnected_nodes\u001b[0m\u001b[1;33m(\u001b[0m\u001b[1;33m)\u001b[0m\u001b[1;33m\u001b[0m\u001b[0m\n\u001b[0;32m    128\u001b[0m \u001b[1;33m\u001b[0m\u001b[0m\n",
        "\u001b[1;32m/home/arne/repos/discoursegraphs/src/discoursegraphs/io/tiger.py\u001b[0m in \u001b[0;36m__tigersentence2graph\u001b[1;34m(self, sentence)\u001b[0m\n\u001b[0;32m    170\u001b[0m             \u001b[1;32mfor\u001b[0m \u001b[0medge\u001b[0m \u001b[1;32min\u001b[0m \u001b[0mnt\u001b[0m\u001b[1;33m.\u001b[0m\u001b[0miterfind\u001b[0m\u001b[1;33m(\u001b[0m\u001b[1;34m'./edge'\u001b[0m\u001b[1;33m)\u001b[0m\u001b[1;33m:\u001b[0m\u001b[1;33m\u001b[0m\u001b[0m\n\u001b[0;32m    171\u001b[0m                 \u001b[0mto_id\u001b[0m \u001b[1;33m=\u001b[0m \u001b[0medge\u001b[0m\u001b[1;33m.\u001b[0m\u001b[0mattrib\u001b[0m\u001b[1;33m[\u001b[0m\u001b[1;34m'idref'\u001b[0m\u001b[1;33m]\u001b[0m\u001b[1;33m\u001b[0m\u001b[0m\n\u001b[1;32m--> 172\u001b[1;33m                 \u001b[0mself\u001b[0m\u001b[1;33m.\u001b[0m\u001b[0madd_edge\u001b[0m\u001b[1;33m(\u001b[0m\u001b[0mfrom_id\u001b[0m\u001b[1;33m,\u001b[0m \u001b[0mto_id\u001b[0m\u001b[1;33m,\u001b[0m \u001b[0medge\u001b[0m\u001b[1;33m.\u001b[0m\u001b[0mattrib\u001b[0m\u001b[1;33m,\u001b[0m \u001b[0mtype\u001b[0m\u001b[1;33m=\u001b[0m\u001b[1;34m'edge'\u001b[0m\u001b[1;33m)\u001b[0m\u001b[1;33m\u001b[0m\u001b[0m\n\u001b[0m\u001b[0;32m    173\u001b[0m \u001b[1;33m\u001b[0m\u001b[0m\n\u001b[0;32m    174\u001b[0m             \u001b[1;32mfor\u001b[0m \u001b[0msecedge\u001b[0m \u001b[1;32min\u001b[0m \u001b[0mnt\u001b[0m\u001b[1;33m.\u001b[0m\u001b[0miterfind\u001b[0m\u001b[1;33m(\u001b[0m\u001b[1;34m'./secedge'\u001b[0m\u001b[1;33m)\u001b[0m\u001b[1;33m:\u001b[0m\u001b[1;33m\u001b[0m\u001b[0m\n",
        "\u001b[1;32m/home/arne/anaconda/lib/python2.7/site-packages/networkx/classes/multidigraph.pyc\u001b[0m in \u001b[0;36madd_edge\u001b[1;34m(self, u, v, key, attr_dict, **attr)\u001b[0m\n\u001b[0;32m    260\u001b[0m             \u001b[0mdatadict\u001b[0m\u001b[1;33m=\u001b[0m\u001b[1;33m{\u001b[0m\u001b[1;33m}\u001b[0m\u001b[1;33m\u001b[0m\u001b[0m\n\u001b[0;32m    261\u001b[0m             \u001b[0mdatadict\u001b[0m\u001b[1;33m.\u001b[0m\u001b[0mupdate\u001b[0m\u001b[1;33m(\u001b[0m\u001b[0mattr_dict\u001b[0m\u001b[1;33m)\u001b[0m\u001b[1;33m\u001b[0m\u001b[0m\n\u001b[1;32m--> 262\u001b[1;33m             \u001b[0mkeydict\u001b[0m\u001b[1;33m=\u001b[0m\u001b[1;33m{\u001b[0m\u001b[0mkey\u001b[0m\u001b[1;33m:\u001b[0m\u001b[0mdatadict\u001b[0m\u001b[1;33m}\u001b[0m\u001b[1;33m\u001b[0m\u001b[0m\n\u001b[0m\u001b[0;32m    263\u001b[0m             \u001b[0mself\u001b[0m\u001b[1;33m.\u001b[0m\u001b[0msucc\u001b[0m\u001b[1;33m[\u001b[0m\u001b[0mu\u001b[0m\u001b[1;33m]\u001b[0m\u001b[1;33m[\u001b[0m\u001b[0mv\u001b[0m\u001b[1;33m]\u001b[0m \u001b[1;33m=\u001b[0m \u001b[0mkeydict\u001b[0m\u001b[1;33m\u001b[0m\u001b[0m\n\u001b[0;32m    264\u001b[0m             \u001b[0mself\u001b[0m\u001b[1;33m.\u001b[0m\u001b[0mpred\u001b[0m\u001b[1;33m[\u001b[0m\u001b[0mv\u001b[0m\u001b[1;33m]\u001b[0m\u001b[1;33m[\u001b[0m\u001b[0mu\u001b[0m\u001b[1;33m]\u001b[0m \u001b[1;33m=\u001b[0m \u001b[0mkeydict\u001b[0m\u001b[1;33m\u001b[0m\u001b[0m\n",
        "\u001b[1;31mTypeError\u001b[0m: unhashable type: 'lxml.etree._Attrib'"
       ]
      }
     ],
     "prompt_number": 2
    },
    {
     "cell_type": "code",
     "collapsed": false,
     "input": [
      "dg = nx.DiGraph()\n",
      "mdg = nx.MultiDiGraph()"
     ],
     "language": "python",
     "metadata": {},
     "outputs": []
    },
    {
     "cell_type": "code",
     "collapsed": false,
     "input": [
      "# mdg.add_edge(self, u, v, key=None, attr_dict=None, **attr)\n",
      "# To replace/update edge data, use the optional key argument\n",
      "# to identify a unique edge.  Otherwise a new edge will be created.\n",
      "\n",
      "# dg.add_edge(self, u, v, attr_dict=None, **attr)\n",
      "# Adding an edge that already exists updates the edge data.\n",
      "\n",
      "\n"
     ],
     "language": "python",
     "metadata": {},
     "outputs": []
    }
   ],
   "metadata": {}
  }
 ]
}